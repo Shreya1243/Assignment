{
  "nbformat": 4,
  "nbformat_minor": 0,
  "metadata": {
    "colab": {
      "provenance": []
    },
    "kernelspec": {
      "name": "python3",
      "display_name": "Python 3"
    },
    "language_info": {
      "name": "python"
    }
  },
  "cells": [
    {
      "cell_type": "markdown",
      "source": [
        "**Python Basics Assignment**\n",
        "\n",
        "Ques 1) Explain the key features of Python that make it a popular choice for programming.\n",
        "\n",
        "Ans)  Some of the key features of Python that makes it a popular choice of programming are as follows:\n",
        "\n",
        "1.Easy to learn and use                                        \n",
        "Python has a simple, readable syntax which makes it easy for beginners to learn. It has a clean and intuitive code structure.\n",
        "\n",
        "2.Versatility                             \n",
        "Python can be used for a wide range of applications from web development and data science to machine learning, automation and more.\n",
        "\n",
        "3.Simplicity                \n",
        "Its simplicity allows data scientists and engineers to focus on solving complex problems.\n",
        "\n",
        "4.Flexibility                                                        Python allows functions to be treated as first class objects or one can write a code that follows a sequence of instructions.\n",
        "\n",
        "5.Readability\n",
        "\n",
        "Python enforces readability through indentation making it easier to read and maintain.\n",
        "\n",
        "6.Additional features\n",
        "\n",
        "Python also has a large community with numerous libraries and frameworks which helps in solving doubts.\n",
        "                                                        \n",
        "\n",
        "\n",
        "\n",
        "\n"
      ],
      "metadata": {
        "id": "TQjfqjUbZ-GI"
      }
    },
    {
      "cell_type": "markdown",
      "source": [
        "Ques 2) Describe the role of predefined keywords in Python and provide examples of how they are used in a program.\n",
        "\n",
        "Ans) Predefined keywords are special words that hold a special meaning and have a special purpose in Python programming.They serve to structure the programs and control its flow.\n"
      ],
      "metadata": {
        "id": "-kU9O9ACfYL0"
      }
    },
    {
      "cell_type": "markdown",
      "source": [
        "1.Keywords like if,else,elif,for and while allows conditional execution or loops."
      ],
      "metadata": {
        "id": "LCNyuoF-362-"
      }
    },
    {
      "cell_type": "code",
      "source": [
        "#if,else,elif\n",
        "a=10\n",
        "if a>100:\n",
        "  print(\"Execute\")\n",
        "elif a<100:\n",
        "  print(\"Not Execute\")\n",
        "else:\n",
        "  print(\"Equals\")"
      ],
      "metadata": {
        "colab": {
          "base_uri": "https://localhost:8080/"
        },
        "id": "aQT4cvvE4PCT",
        "outputId": "a279f8ca-08ad-48e3-dbee-083fb8a1f3ae"
      },
      "execution_count": null,
      "outputs": [
        {
          "output_type": "stream",
          "name": "stdout",
          "text": [
            "Not Execute\n"
          ]
        }
      ]
    },
    {
      "cell_type": "code",
      "source": [
        "#for\n",
        "for p in \"programming\":\n",
        "  print(p)\n",
        "\n"
      ],
      "metadata": {
        "colab": {
          "base_uri": "https://localhost:8080/"
        },
        "id": "YBcK3pk_47BP",
        "outputId": "e624dc57-bed6-4e43-dc44-c916703a46d9"
      },
      "execution_count": null,
      "outputs": [
        {
          "output_type": "stream",
          "name": "stdout",
          "text": [
            "p\n",
            "r\n",
            "o\n",
            "g\n",
            "r\n",
            "a\n",
            "m\n",
            "m\n",
            "i\n",
            "n\n",
            "g\n"
          ]
        }
      ]
    },
    {
      "cell_type": "code",
      "source": [
        "#while\n",
        "n=5\n",
        "i=1\n",
        "while i<n:\n",
        "  print(i)\n",
        "  i=i+1"
      ],
      "metadata": {
        "colab": {
          "base_uri": "https://localhost:8080/"
        },
        "id": "jy-oOMDY6AuF",
        "outputId": "d38f23e8-f5b7-41bb-a8d7-9a85639c73ae"
      },
      "execution_count": null,
      "outputs": [
        {
          "output_type": "stream",
          "name": "stdout",
          "text": [
            "1\n",
            "2\n",
            "3\n",
            "4\n"
          ]
        }
      ]
    },
    {
      "cell_type": "markdown",
      "source": [
        "2.True,False,and,or,not are used to handle boolean values and logical operations."
      ],
      "metadata": {
        "id": "z8tXPSHN6rHy"
      }
    },
    {
      "cell_type": "code",
      "source": [
        "True and True"
      ],
      "metadata": {
        "colab": {
          "base_uri": "https://localhost:8080/"
        },
        "id": "hvVpHfhT638z",
        "outputId": "eeb6a666-e55a-4b64-bcaf-ebb2f9602280"
      },
      "execution_count": null,
      "outputs": [
        {
          "output_type": "execute_result",
          "data": {
            "text/plain": [
              "True"
            ]
          },
          "metadata": {},
          "execution_count": 7
        }
      ]
    },
    {
      "cell_type": "code",
      "source": [
        "True or True"
      ],
      "metadata": {
        "colab": {
          "base_uri": "https://localhost:8080/"
        },
        "id": "RWTpj2SN678x",
        "outputId": "e836fecb-3eab-423f-9045-d706a31f4ea8"
      },
      "execution_count": null,
      "outputs": [
        {
          "output_type": "execute_result",
          "data": {
            "text/plain": [
              "True"
            ]
          },
          "metadata": {},
          "execution_count": 8
        }
      ]
    },
    {
      "cell_type": "code",
      "source": [
        "bool(0)"
      ],
      "metadata": {
        "colab": {
          "base_uri": "https://localhost:8080/"
        },
        "id": "wnCpS2bb6-vS",
        "outputId": "b7e1b69e-a50a-4ae6-c4cd-f16b28f2bfc8"
      },
      "execution_count": null,
      "outputs": [
        {
          "output_type": "execute_result",
          "data": {
            "text/plain": [
              "False"
            ]
          },
          "metadata": {},
          "execution_count": 9
        }
      ]
    },
    {
      "cell_type": "code",
      "source": [
        "bool(1)"
      ],
      "metadata": {
        "colab": {
          "base_uri": "https://localhost:8080/"
        },
        "id": "e7Y7TU1V7Aiu",
        "outputId": "a729fb78-8fb3-4df4-9052-bc7c71ba543a"
      },
      "execution_count": null,
      "outputs": [
        {
          "output_type": "execute_result",
          "data": {
            "text/plain": [
              "True"
            ]
          },
          "metadata": {},
          "execution_count": 10
        }
      ]
    },
    {
      "cell_type": "code",
      "source": [
        "not True"
      ],
      "metadata": {
        "colab": {
          "base_uri": "https://localhost:8080/"
        },
        "id": "1ArcMr7g7Czt",
        "outputId": "2902c865-7831-4100-e3ed-732c7f2ee733"
      },
      "execution_count": null,
      "outputs": [
        {
          "output_type": "execute_result",
          "data": {
            "text/plain": [
              "False"
            ]
          },
          "metadata": {},
          "execution_count": 11
        }
      ]
    },
    {
      "cell_type": "markdown",
      "source": [
        "3.Break is used to exit a loop when a certain condition is met."
      ],
      "metadata": {
        "id": "ONHTexzd7ItO"
      }
    },
    {
      "cell_type": "code",
      "source": [
        "for i in range(10):\n",
        "  if i==5:\n",
        "    break\n",
        "  print(i)\n"
      ],
      "metadata": {
        "colab": {
          "base_uri": "https://localhost:8080/"
        },
        "id": "GlKxC2NV7WQa",
        "outputId": "092b1529-52ab-42cc-f685-0a9b109366b7"
      },
      "execution_count": null,
      "outputs": [
        {
          "output_type": "stream",
          "name": "stdout",
          "text": [
            "0\n",
            "1\n",
            "2\n",
            "3\n",
            "4\n"
          ]
        }
      ]
    },
    {
      "cell_type": "markdown",
      "source": [
        "4.Continue is used to skip the current iteration of the loop and move to the next iteration."
      ],
      "metadata": {
        "id": "s6iLu4x17-cx"
      }
    },
    {
      "cell_type": "code",
      "source": [
        "for i in range(10):\n",
        "  if i==5:\n",
        "    continue\n",
        "  print(i)"
      ],
      "metadata": {
        "colab": {
          "base_uri": "https://localhost:8080/"
        },
        "id": "4rhtC5lu8MYl",
        "outputId": "b5fbee02-4b86-4223-ab72-0787d4655fc8"
      },
      "execution_count": null,
      "outputs": [
        {
          "output_type": "stream",
          "name": "stdout",
          "text": [
            "0\n",
            "1\n",
            "2\n",
            "3\n",
            "4\n",
            "6\n",
            "7\n",
            "8\n",
            "9\n"
          ]
        }
      ]
    },
    {
      "cell_type": "markdown",
      "source": [
        "5.Import is used to bring in modules into the current program."
      ],
      "metadata": {
        "id": "ZckFIU2G8al-"
      }
    },
    {
      "cell_type": "code",
      "source": [
        "import math\n",
        "print(math.sqrt(16))"
      ],
      "metadata": {
        "colab": {
          "base_uri": "https://localhost:8080/"
        },
        "id": "Q6VcNN9p8o-d",
        "outputId": "d3d414cc-2b02-4c83-f87d-06680f7b89c9"
      },
      "execution_count": null,
      "outputs": [
        {
          "output_type": "stream",
          "name": "stdout",
          "text": [
            "4.0\n"
          ]
        }
      ]
    },
    {
      "cell_type": "markdown",
      "source": [
        "6.None keyword repesents the absence of a value or a null value."
      ],
      "metadata": {
        "id": "k5Cvp7qe86HB"
      }
    },
    {
      "cell_type": "code",
      "source": [
        "x=None\n",
        "print(x)"
      ],
      "metadata": {
        "colab": {
          "base_uri": "https://localhost:8080/"
        },
        "id": "D-Sxf3FC9UV4",
        "outputId": "84312cd1-2f99-432e-db80-822e21951ed4"
      },
      "execution_count": null,
      "outputs": [
        {
          "output_type": "stream",
          "name": "stdout",
          "text": [
            "None\n"
          ]
        }
      ]
    },
    {
      "cell_type": "markdown",
      "source": [
        "7.Def keyword defines a function and Return is used to return variables."
      ],
      "metadata": {
        "id": "lFCJjVE79chn"
      }
    },
    {
      "cell_type": "code",
      "source": [
        "def add_numbers(a,b):\n",
        "  return a+b"
      ],
      "metadata": {
        "id": "YnTs1L2Z9onk"
      },
      "execution_count": null,
      "outputs": []
    },
    {
      "cell_type": "code",
      "source": [
        "result=add_numbers(5,3)\n",
        "print(result)"
      ],
      "metadata": {
        "colab": {
          "base_uri": "https://localhost:8080/"
        },
        "id": "48Kpkxm_9u8h",
        "outputId": "539ee371-898c-4715-9ba4-db892dfa847c"
      },
      "execution_count": null,
      "outputs": [
        {
          "output_type": "stream",
          "name": "stdout",
          "text": [
            "8\n"
          ]
        }
      ]
    },
    {
      "cell_type": "markdown",
      "source": [
        "Ques 3)Compare and contrast mutable and immutable objects in Python with examples."
      ],
      "metadata": {
        "id": "bDgb-6UR9744"
      }
    },
    {
      "cell_type": "markdown",
      "source": [
        "In Python, the value of mutable objects can be changed after they are created. It means that the elements or attributes of the object can be modified without creating a new object."
      ],
      "metadata": {
        "id": "s-lEG5P__GU2"
      }
    },
    {
      "cell_type": "code",
      "source": [
        "#Lists\n",
        "list=[1,2,3]\n",
        "list[0]=10 #modifying the first element\n",
        "print(list)"
      ],
      "metadata": {
        "colab": {
          "base_uri": "https://localhost:8080/"
        },
        "id": "ukONoYNq_mTU",
        "outputId": "78cce53c-3ce2-474a-9fd9-0fde0cd86d52"
      },
      "execution_count": null,
      "outputs": [
        {
          "output_type": "stream",
          "name": "stdout",
          "text": [
            "[10, 2, 3]\n"
          ]
        }
      ]
    },
    {
      "cell_type": "code",
      "source": [
        "#Dictionaries\n",
        "dict={'a':1,'b':2}\n",
        "dict['a']=10 #modifying the value of a\n",
        "print(dict)"
      ],
      "metadata": {
        "colab": {
          "base_uri": "https://localhost:8080/"
        },
        "id": "VXXZkNb8AF0h",
        "outputId": "119080d5-35b7-4989-9c49-5bcee360f194"
      },
      "execution_count": null,
      "outputs": [
        {
          "output_type": "stream",
          "name": "stdout",
          "text": [
            "{'a': 10, 'b': 2}\n"
          ]
        }
      ]
    },
    {
      "cell_type": "code",
      "source": [
        "#Sets\n",
        "set={1,2,3}\n",
        "set.add(4) #adding an element to the set\n",
        "set\n"
      ],
      "metadata": {
        "colab": {
          "base_uri": "https://localhost:8080/"
        },
        "id": "fgsc9A3tA7tC",
        "outputId": "ee87e6ac-4c0d-4379-9f23-097f498f5c97"
      },
      "execution_count": null,
      "outputs": [
        {
          "output_type": "execute_result",
          "data": {
            "text/plain": [
              "{1, 2, 3, 4}"
            ]
          },
          "metadata": {},
          "execution_count": 28
        }
      ]
    },
    {
      "cell_type": "markdown",
      "source": [
        "Immutable objects cannot be changed after they are created."
      ],
      "metadata": {
        "id": "M2DOIwr1CqLj"
      }
    },
    {
      "cell_type": "code",
      "source": [
        "#Strings\n",
        "string=\"hello\"\n",
        "string[0]=\"h\" #it will give an error"
      ],
      "metadata": {
        "colab": {
          "base_uri": "https://localhost:8080/",
          "height": 176
        },
        "id": "bznXMizTDB2T",
        "outputId": "8842fbf4-5df6-49dd-b6ca-9f8fdd19e6fb"
      },
      "execution_count": null,
      "outputs": [
        {
          "output_type": "error",
          "ename": "TypeError",
          "evalue": "'str' object does not support item assignment",
          "traceback": [
            "\u001b[0;31m---------------------------------------------------------------------------\u001b[0m",
            "\u001b[0;31mTypeError\u001b[0m                                 Traceback (most recent call last)",
            "\u001b[0;32m<ipython-input-30-41395ad58f9d>\u001b[0m in \u001b[0;36m<cell line: 3>\u001b[0;34m()\u001b[0m\n\u001b[1;32m      1\u001b[0m \u001b[0;31m#Strings\u001b[0m\u001b[0;34m\u001b[0m\u001b[0;34m\u001b[0m\u001b[0m\n\u001b[1;32m      2\u001b[0m \u001b[0mstring\u001b[0m\u001b[0;34m=\u001b[0m\u001b[0;34m\"hello\"\u001b[0m\u001b[0;34m\u001b[0m\u001b[0;34m\u001b[0m\u001b[0m\n\u001b[0;32m----> 3\u001b[0;31m \u001b[0mstring\u001b[0m\u001b[0;34m[\u001b[0m\u001b[0;36m0\u001b[0m\u001b[0;34m]\u001b[0m\u001b[0;34m=\u001b[0m\u001b[0;34m\"h\"\u001b[0m \u001b[0;31m#it will give an error\u001b[0m\u001b[0;34m\u001b[0m\u001b[0;34m\u001b[0m\u001b[0m\n\u001b[0m",
            "\u001b[0;31mTypeError\u001b[0m: 'str' object does not support item assignment"
          ]
        }
      ]
    },
    {
      "cell_type": "code",
      "source": [
        "Similarly,\n",
        "#Integers,Tuples,Floats,Booleans will also give an error\n",
        "tuple=(1,2,3)\n",
        "tuple[10]=10"
      ],
      "metadata": {
        "colab": {
          "base_uri": "https://localhost:8080/",
          "height": 193
        },
        "id": "NepmCATgECX6",
        "outputId": "5dfcf84a-8acf-4383-ebaf-2a575ef60521"
      },
      "execution_count": null,
      "outputs": [
        {
          "output_type": "error",
          "ename": "NameError",
          "evalue": "name 'Similarly' is not defined",
          "traceback": [
            "\u001b[0;31m---------------------------------------------------------------------------\u001b[0m",
            "\u001b[0;31mNameError\u001b[0m                                 Traceback (most recent call last)",
            "\u001b[0;32m<ipython-input-31-99496ce18be4>\u001b[0m in \u001b[0;36m<cell line: 1>\u001b[0;34m()\u001b[0m\n\u001b[0;32m----> 1\u001b[0;31m \u001b[0mSimilarly\u001b[0m\u001b[0;34m,\u001b[0m\u001b[0;34m\u001b[0m\u001b[0;34m\u001b[0m\u001b[0m\n\u001b[0m\u001b[1;32m      2\u001b[0m \u001b[0;31m#Integers,Tuples,Floats,Booleans will also give an error\u001b[0m\u001b[0;34m\u001b[0m\u001b[0;34m\u001b[0m\u001b[0m\n\u001b[1;32m      3\u001b[0m \u001b[0mtuple\u001b[0m\u001b[0;34m=\u001b[0m\u001b[0;34m(\u001b[0m\u001b[0;36m1\u001b[0m\u001b[0;34m,\u001b[0m\u001b[0;36m2\u001b[0m\u001b[0;34m,\u001b[0m\u001b[0;36m3\u001b[0m\u001b[0;34m)\u001b[0m\u001b[0;34m\u001b[0m\u001b[0;34m\u001b[0m\u001b[0m\n\u001b[1;32m      4\u001b[0m \u001b[0mtuple\u001b[0m\u001b[0;34m[\u001b[0m\u001b[0;36m10\u001b[0m\u001b[0;34m]\u001b[0m\u001b[0;34m=\u001b[0m\u001b[0;36m10\u001b[0m\u001b[0;34m\u001b[0m\u001b[0;34m\u001b[0m\u001b[0m\n",
            "\u001b[0;31mNameError\u001b[0m: name 'Similarly' is not defined"
          ]
        }
      ]
    },
    {
      "cell_type": "markdown",
      "source": [
        "Ques 4)Discuss the different types of operators in Python and provide examples of how they are used.\n",
        "\n",
        "Ans)Operators are special symbols used to perform operations on values and variables."
      ],
      "metadata": {
        "id": "f5XK7BCWFv8f"
      }
    },
    {
      "cell_type": "code",
      "source": [
        "#Arithmetic Operators>>Arithmetic operators perform basic mathematical operations like addition, subtraction, multiplication, division,floor division,modulus,exponentiation\n",
        "\n",
        "5+3"
      ],
      "metadata": {
        "id": "BVqwj2I0GnLI",
        "colab": {
          "base_uri": "https://localhost:8080/"
        },
        "outputId": "0eca8b65-6748-46c3-d0be-8cd0604879ff"
      },
      "execution_count": null,
      "outputs": [
        {
          "output_type": "execute_result",
          "data": {
            "text/plain": [
              "8"
            ]
          },
          "metadata": {},
          "execution_count": 1
        }
      ]
    },
    {
      "cell_type": "code",
      "source": [
        "5-2"
      ],
      "metadata": {
        "colab": {
          "base_uri": "https://localhost:8080/"
        },
        "id": "D2Ik3LheO8wv",
        "outputId": "77db75d4-ddbf-421d-bfc8-a9651ad78c60"
      },
      "execution_count": null,
      "outputs": [
        {
          "output_type": "execute_result",
          "data": {
            "text/plain": [
              "3"
            ]
          },
          "metadata": {},
          "execution_count": 2
        }
      ]
    },
    {
      "cell_type": "code",
      "source": [
        "5/2"
      ],
      "metadata": {
        "colab": {
          "base_uri": "https://localhost:8080/"
        },
        "id": "6X_CS0sWPAJx",
        "outputId": "8da4e940-56c3-41ef-c6ee-cff327c19373"
      },
      "execution_count": null,
      "outputs": [
        {
          "output_type": "execute_result",
          "data": {
            "text/plain": [
              "2.5"
            ]
          },
          "metadata": {},
          "execution_count": 3
        }
      ]
    },
    {
      "cell_type": "code",
      "source": [
        "5*2"
      ],
      "metadata": {
        "colab": {
          "base_uri": "https://localhost:8080/"
        },
        "id": "zxutCtY3PE9d",
        "outputId": "99556ed4-5119-4581-ea2c-03b272d24679"
      },
      "execution_count": null,
      "outputs": [
        {
          "output_type": "execute_result",
          "data": {
            "text/plain": [
              "10"
            ]
          },
          "metadata": {},
          "execution_count": 4
        }
      ]
    },
    {
      "cell_type": "code",
      "source": [
        "5//2"
      ],
      "metadata": {
        "colab": {
          "base_uri": "https://localhost:8080/"
        },
        "id": "PHOSlxtuPG3w",
        "outputId": "d569c1a8-46d9-4c97-c9e6-639ea1011946"
      },
      "execution_count": null,
      "outputs": [
        {
          "output_type": "execute_result",
          "data": {
            "text/plain": [
              "2"
            ]
          },
          "metadata": {},
          "execution_count": 5
        }
      ]
    },
    {
      "cell_type": "code",
      "source": [
        "5%2"
      ],
      "metadata": {
        "colab": {
          "base_uri": "https://localhost:8080/"
        },
        "id": "i5gVT-9kPLa7",
        "outputId": "a2cf8732-44a2-4c9e-d792-5e7fd86546f5"
      },
      "execution_count": null,
      "outputs": [
        {
          "output_type": "execute_result",
          "data": {
            "text/plain": [
              "1"
            ]
          },
          "metadata": {},
          "execution_count": 6
        }
      ]
    },
    {
      "cell_type": "code",
      "source": [
        "2**5"
      ],
      "metadata": {
        "colab": {
          "base_uri": "https://localhost:8080/"
        },
        "id": "W0HxCWXGPPTN",
        "outputId": "138aa62a-da77-4fdf-92a8-62e263f90e1f"
      },
      "execution_count": null,
      "outputs": [
        {
          "output_type": "execute_result",
          "data": {
            "text/plain": [
              "32"
            ]
          },
          "metadata": {},
          "execution_count": 7
        }
      ]
    },
    {
      "cell_type": "code",
      "source": [
        "#Comparison Operators>>It compares 2 values and returns a boolean value\n",
        "x = 10\n",
        "y = 20\n",
        "\n",
        "print(x == y)\n",
        "print(x != y)\n",
        "print(x > y)\n",
        "print(x < y)\n",
        "print(x >= 10)\n",
        "print(y <= 15)"
      ],
      "metadata": {
        "colab": {
          "base_uri": "https://localhost:8080/"
        },
        "id": "cDrOp9HVPVSs",
        "outputId": "b7ecdfd8-1dac-4f86-cfbc-9e224da1acd7"
      },
      "execution_count": null,
      "outputs": [
        {
          "output_type": "stream",
          "name": "stdout",
          "text": [
            "False\n",
            "True\n",
            "False\n",
            "True\n",
            "True\n",
            "False\n"
          ]
        }
      ]
    },
    {
      "cell_type": "code",
      "source": [
        "#Logical Operators>>Logical operators are used to combine conditional statements and return a Boolean result\n",
        "a = True\n",
        "b = False\n",
        "\n",
        "print(a and b)\n",
        "print(a or b)\n",
        "print(not a)"
      ],
      "metadata": {
        "colab": {
          "base_uri": "https://localhost:8080/"
        },
        "id": "ur7zV8IhRDNr",
        "outputId": "4cf5de78-d591-4c76-eccc-e4e1de4527bc"
      },
      "execution_count": null,
      "outputs": [
        {
          "output_type": "stream",
          "name": "stdout",
          "text": [
            "False\n",
            "True\n",
            "False\n"
          ]
        }
      ]
    },
    {
      "cell_type": "code",
      "source": [
        "#Assignment Operators>>Assignment operators are used to assign values to variables.\n",
        "x = 10\n",
        "x += 5\n",
        "print(x)"
      ],
      "metadata": {
        "colab": {
          "base_uri": "https://localhost:8080/"
        },
        "id": "920uP0NpSXYy",
        "outputId": "edca8338-024b-44af-ba6b-b4eaf76d9731"
      },
      "execution_count": null,
      "outputs": [
        {
          "output_type": "stream",
          "name": "stdout",
          "text": [
            "15\n"
          ]
        }
      ]
    },
    {
      "cell_type": "code",
      "source": [
        "#Identity Operators>>Identity operators are used to compare the memory locations of two objects.\n",
        "a=2\n",
        "b=3\n",
        "a is b"
      ],
      "metadata": {
        "colab": {
          "base_uri": "https://localhost:8080/"
        },
        "id": "PCaGRQ2fT_5R",
        "outputId": "0f8777e2-2f12-4071-cf8b-fa8dbd364ba2"
      },
      "execution_count": null,
      "outputs": [
        {
          "output_type": "execute_result",
          "data": {
            "text/plain": [
              "False"
            ]
          },
          "metadata": {},
          "execution_count": 14
        }
      ]
    },
    {
      "cell_type": "code",
      "source": [
        "a is not b"
      ],
      "metadata": {
        "colab": {
          "base_uri": "https://localhost:8080/"
        },
        "id": "cuDLcytZVMnZ",
        "outputId": "5c4564ba-9e6a-47fd-a3b6-b25c55b5422f"
      },
      "execution_count": null,
      "outputs": [
        {
          "output_type": "execute_result",
          "data": {
            "text/plain": [
              "True"
            ]
          },
          "metadata": {},
          "execution_count": 15
        }
      ]
    },
    {
      "cell_type": "code",
      "source": [
        "#Membership Operators>>Membership operators are used to test whether a value is a member of a sequence.\n",
        "a=\"programming\"\n",
        "\"y\" in a"
      ],
      "metadata": {
        "colab": {
          "base_uri": "https://localhost:8080/"
        },
        "id": "gPlMiL6LVOnu",
        "outputId": "340c58bb-179c-414a-e582-bd995c2ea011"
      },
      "execution_count": null,
      "outputs": [
        {
          "output_type": "execute_result",
          "data": {
            "text/plain": [
              "False"
            ]
          },
          "metadata": {},
          "execution_count": 16
        }
      ]
    },
    {
      "cell_type": "code",
      "source": [
        "\"p\" in a"
      ],
      "metadata": {
        "colab": {
          "base_uri": "https://localhost:8080/"
        },
        "id": "dlJpb3Y1Wq_z",
        "outputId": "18426cb0-0864-42f5-fc3a-e5f4f16727e4"
      },
      "execution_count": null,
      "outputs": [
        {
          "output_type": "execute_result",
          "data": {
            "text/plain": [
              "True"
            ]
          },
          "metadata": {},
          "execution_count": 17
        }
      ]
    },
    {
      "cell_type": "code",
      "source": [
        "#Bitwise Operators>>Bitwise operators work on the binary representation of numbers.\n",
        "a = 5  # Binary: 0101\n",
        "b = 3  # Binary: 0011\n",
        "\n",
        "print(a & b)  # (Bitwise AND: 0101 & 0011 = 0001)\n",
        "print(a | b)  # (Bitwise OR: 0101 | 0011 = 0111)\n",
        "print(a ^ b)  # (Bitwise XOR: 0101 ^ 0011 = 0110)\n",
        "print(~a)     # (Bitwise NOT: ~0101 = -0110)\n",
        "print(a << 1) # (Left Shift: 0101 << 1 = 1010)\n",
        "print(a >> 1) # (Right Shift: 0101 >> 1 = 0010)"
      ],
      "metadata": {
        "colab": {
          "base_uri": "https://localhost:8080/"
        },
        "id": "PNVoYLBfWw-Y",
        "outputId": "62c57930-e34c-4a05-b245-f5bf008625bb"
      },
      "execution_count": null,
      "outputs": [
        {
          "output_type": "stream",
          "name": "stdout",
          "text": [
            "1\n",
            "7\n",
            "6\n",
            "-6\n",
            "10\n",
            "2\n"
          ]
        }
      ]
    },
    {
      "cell_type": "markdown",
      "source": [
        "Ques 5)Explain the concept of type casting in Python with examples.\n",
        "\n",
        "Ans)Type casting in Python refers to the process of converting one data type into another."
      ],
      "metadata": {
        "id": "w0gTNuercUm2"
      }
    },
    {
      "cell_type": "code",
      "source": [
        "#Implicit Typecasting>>Python automatically converts one data type to another without explicit instruction from the use\n",
        "a = 5\n",
        "b= 4.2\n",
        "\n",
        "result = a + b\n",
        "print(result)\n",
        "print(type(result))"
      ],
      "metadata": {
        "id": "ZyR7oLR7gHmm",
        "colab": {
          "base_uri": "https://localhost:8080/"
        },
        "outputId": "4f248722-35df-432b-e821-36a5b6914226"
      },
      "execution_count": null,
      "outputs": [
        {
          "output_type": "stream",
          "name": "stdout",
          "text": [
            "9.2\n",
            "<class 'float'>\n"
          ]
        }
      ]
    },
    {
      "cell_type": "code",
      "source": [
        "#Explicit Typecasting>>The user converts data from one type to another using Python’s built-in functions.\n",
        "\n",
        "num = 100\n",
        "str_num = str(num)\n",
        "print(str_num)\n",
        "print(type(str_num))"
      ],
      "metadata": {
        "colab": {
          "base_uri": "https://localhost:8080/"
        },
        "id": "ANW52PqW6OoL",
        "outputId": "8d3bb84a-36f0-46c7-a7d2-3c3c5a27d1ee"
      },
      "execution_count": null,
      "outputs": [
        {
          "output_type": "stream",
          "name": "stdout",
          "text": [
            "100\n",
            "<class 'str'>\n"
          ]
        }
      ]
    },
    {
      "cell_type": "code",
      "source": [
        "my_string = \"Hello\"\n",
        "my_list = list(my_string)\n",
        "print(my_list)"
      ],
      "metadata": {
        "id": "AYNstDz_7_AK",
        "colab": {
          "base_uri": "https://localhost:8080/"
        },
        "outputId": "6ca9c973-65a4-4034-d8c5-ed3c17395739"
      },
      "execution_count": null,
      "outputs": [
        {
          "output_type": "stream",
          "name": "stdout",
          "text": [
            "['H', 'e', 'l', 'l', 'o']\n"
          ]
        }
      ]
    },
    {
      "cell_type": "code",
      "source": [
        "my_tuple = (1, 2, 3)\n",
        "my_list = list(my_tuple)\n",
        "print(my_list)"
      ],
      "metadata": {
        "colab": {
          "base_uri": "https://localhost:8080/"
        },
        "id": "P4VdjdtF82UA",
        "outputId": "f93cb8f1-65b9-4328-fd6b-306d3760aa27"
      },
      "execution_count": null,
      "outputs": [
        {
          "output_type": "stream",
          "name": "stdout",
          "text": [
            "[1, 2, 3]\n"
          ]
        }
      ]
    },
    {
      "cell_type": "code",
      "source": [
        "my_list = [1, 2, 3]\n",
        "my_tuple = tuple(my_list)\n",
        "print(my_tuple)"
      ],
      "metadata": {
        "colab": {
          "base_uri": "https://localhost:8080/"
        },
        "id": "idOEVPEs89Xu",
        "outputId": "3409bf03-6a40-4127-c366-8a4f50ac5e45"
      },
      "execution_count": null,
      "outputs": [
        {
          "output_type": "stream",
          "name": "stdout",
          "text": [
            "(1, 2, 3)\n"
          ]
        }
      ]
    },
    {
      "cell_type": "code",
      "source": [
        "num = 100\n",
        "str_num = str(num)\n",
        "print(str_num)\n",
        "print(type(str_num))"
      ],
      "metadata": {
        "colab": {
          "base_uri": "https://localhost:8080/"
        },
        "id": "v-evGV0b9LbS",
        "outputId": "44003551-7872-412a-f519-19cc2bde8e8a"
      },
      "execution_count": null,
      "outputs": [
        {
          "output_type": "stream",
          "name": "stdout",
          "text": [
            "100\n",
            "<class 'str'>\n"
          ]
        }
      ]
    },
    {
      "cell_type": "markdown",
      "source": [
        "Ques 6) How do conditional statements work in Python? Illustrate with examples.\n",
        "\n",
        "Ans)Conditional statements helps to code decisions based on some pre-conditions."
      ],
      "metadata": {
        "id": "wx_-V5yM-tjd"
      }
    },
    {
      "cell_type": "code",
      "source": [
        "#if>>It checks whether a condition is true, and if it is, the indented block of code is executed.\n",
        "\n",
        "a=100\n",
        "if a>0:\n",
        "   print(\"The number is greater than 0\")\n",
        "if a<0:\n",
        "   print(\"The number is smaller than 0\")"
      ],
      "metadata": {
        "colab": {
          "base_uri": "https://localhost:8080/"
        },
        "id": "YNj1YN6l_dZI",
        "outputId": "42b4a0c6-0030-4526-cf22-dcb81586e6bb"
      },
      "execution_count": null,
      "outputs": [
        {
          "output_type": "stream",
          "name": "stdout",
          "text": [
            "The number is greater than 0\n"
          ]
        }
      ]
    },
    {
      "cell_type": "code",
      "source": [
        "#if-else>>The if-else statement provides an alternative action if the condition in the if statement is false. If the condition is not true, the code under the else block is executed.\n",
        "\n",
        "age=18\n",
        "if age>=18:\n",
        " print(\"You can vote.\")\n",
        "else:\n",
        " print(\"You cannot vote.\")"
      ],
      "metadata": {
        "colab": {
          "base_uri": "https://localhost:8080/"
        },
        "id": "hTb2rBGPAF1q",
        "outputId": "404f9aef-1f2a-4203-ec6d-e5a24057a939"
      },
      "execution_count": null,
      "outputs": [
        {
          "output_type": "stream",
          "name": "stdout",
          "text": [
            "You can vote.\n"
          ]
        }
      ]
    },
    {
      "cell_type": "code",
      "source": [
        "#if-elif-else>>The if-elif-else statement allows you to check multiple conditions sequentially. If the first if condition is false, Python checks the next elif (else if) condition, and so on. If none of the conditions is true, the else block is executed.\n",
        "\n",
        "num = 7\n",
        "\n",
        "if num > 10:\n",
        "    print(\"The number is greater than 10.\")\n",
        "elif num == 7:\n",
        "    print(\"The number is equal to 7.\")\n",
        "else:\n",
        "    print(\"The number is less than 7.\")"
      ],
      "metadata": {
        "colab": {
          "base_uri": "https://localhost:8080/"
        },
        "id": "2URlv283BQuw",
        "outputId": "8d4dfee2-470d-4036-906d-11a75e199838"
      },
      "execution_count": null,
      "outputs": [
        {
          "output_type": "stream",
          "name": "stdout",
          "text": [
            "The number is equal to 7.\n"
          ]
        }
      ]
    },
    {
      "cell_type": "code",
      "source": [
        "#nested if-else\n",
        "\n",
        "num = 12\n",
        "\n",
        "if num > 0:\n",
        "    print(\"The number is positive.\")\n",
        "    if num % 2 == 0:\n",
        "        print(\"The number is even.\")\n",
        "    else:\n",
        "        print(\"The number is odd.\")\n",
        "else:\n",
        "    print(\"The number is not positive.\")"
      ],
      "metadata": {
        "colab": {
          "base_uri": "https://localhost:8080/"
        },
        "id": "JFY5vZ--CFgS",
        "outputId": "1212392b-a893-45ef-8ec0-04b2ce1d68ee"
      },
      "execution_count": null,
      "outputs": [
        {
          "output_type": "stream",
          "name": "stdout",
          "text": [
            "The number is positive.\n",
            "The number is even.\n"
          ]
        }
      ]
    },
    {
      "cell_type": "code",
      "source": [
        "\n",
        "#input\n",
        "a=int(input(\"Enter a number\"))\n",
        "if a>=100:\n",
        "  print(\"Greater\")\n",
        "elif 0<=a<100:\n",
        "  print(\"Lesser\")\n",
        "else:\n",
        "  print(\"Negative\")"
      ],
      "metadata": {
        "colab": {
          "base_uri": "https://localhost:8080/"
        },
        "id": "tWT_2_KyCxhP",
        "outputId": "9fbd9abf-881e-4918-db6a-fca2190344fa"
      },
      "execution_count": null,
      "outputs": [
        {
          "output_type": "stream",
          "name": "stdout",
          "text": [
            "Enter a number10\n",
            "Lesser\n"
          ]
        }
      ]
    },
    {
      "cell_type": "markdown",
      "source": [
        "Ques 7)Describe the different types of loops in Python and their use cases with examples."
      ],
      "metadata": {
        "id": "VEdf3RRULAk0"
      }
    },
    {
      "cell_type": "code",
      "source": [
        "#while loop>>repeatedly executes a block of code until a condition is met.\n",
        "#Use case: You would use a while loop when you want the loop to continue until a condition is no longer true, such as counting until a certain number or waiting for a user input.\n",
        "n=10\n",
        "i=1\n",
        "while i<n:\n",
        "  print(i)\n",
        "  i=i+1"
      ],
      "metadata": {
        "colab": {
          "base_uri": "https://localhost:8080/"
        },
        "id": "0_x8qecTMWO4",
        "outputId": "31455504-f626-41ec-f832-984e701cc0f2"
      },
      "execution_count": null,
      "outputs": [
        {
          "output_type": "stream",
          "name": "stdout",
          "text": [
            "1\n",
            "2\n",
            "3\n",
            "4\n",
            "5\n",
            "6\n",
            "7\n",
            "8\n",
            "9\n"
          ]
        }
      ]
    },
    {
      "cell_type": "code",
      "source": [
        "#break and continue\n",
        "#Use case: Use break when you want to exit the loop early, and continue when you want certain iterations without exiting the loop entirely.\n",
        "\n",
        "n=5\n",
        "i=1\n",
        "while i<n:\n",
        "  print(i)\n",
        "  i=i+1\n",
        "  if i==4:\n",
        "    break\n",
        "else:\n",
        "  print(\"Execute\")"
      ],
      "metadata": {
        "colab": {
          "base_uri": "https://localhost:8080/"
        },
        "id": "ejLYD9TzN0Eu",
        "outputId": "7ff759ed-5401-40e3-963c-d605c00402ff"
      },
      "execution_count": null,
      "outputs": [
        {
          "output_type": "stream",
          "name": "stdout",
          "text": [
            "1\n",
            "2\n",
            "3\n"
          ]
        }
      ]
    },
    {
      "cell_type": "code",
      "source": [
        "n=7\n",
        "i=1\n",
        "while i<n:\n",
        "  i=i+1\n",
        "  if i==3:\n",
        "     continue\n",
        "  print(i)"
      ],
      "metadata": {
        "colab": {
          "base_uri": "https://localhost:8080/"
        },
        "id": "_dughvpdPV0J",
        "outputId": "cf223b01-89cb-49bb-d6ea-161b71ed9e41"
      },
      "execution_count": null,
      "outputs": [
        {
          "output_type": "stream",
          "name": "stdout",
          "text": [
            "2\n",
            "4\n",
            "5\n",
            "6\n",
            "7\n"
          ]
        }
      ]
    },
    {
      "cell_type": "code",
      "source": [
        "#for loop>>iterate over a sequence of elements.\n",
        "#Use case: You would use a for loop when you want to perform an action for every element in an iterable, such as a list or range.\n",
        "\n",
        "fruits = [\"apple\", \"banana\", \"cherry\"]\n",
        "\n",
        "for fruit in fruits:\n",
        "    print(fruit)"
      ],
      "metadata": {
        "colab": {
          "base_uri": "https://localhost:8080/"
        },
        "id": "lRJ98oZPPcWQ",
        "outputId": "86323ca8-ff60-4f37-f58b-2f45aaf0adf1"
      },
      "execution_count": null,
      "outputs": [
        {
          "output_type": "stream",
          "name": "stdout",
          "text": [
            "apple\n",
            "banana\n",
            "cherry\n"
          ]
        }
      ]
    },
    {
      "cell_type": "code",
      "source": [
        "#break\n",
        "for i in range(10):\n",
        "    if i == 5:\n",
        "        break\n",
        "    print(i)"
      ],
      "metadata": {
        "id": "ut574jSeQLMH",
        "colab": {
          "base_uri": "https://localhost:8080/"
        },
        "outputId": "69164218-be55-4b34-efee-375929de59ee"
      },
      "execution_count": null,
      "outputs": [
        {
          "output_type": "stream",
          "name": "stdout",
          "text": [
            "0\n",
            "1\n",
            "2\n",
            "3\n",
            "4\n"
          ]
        }
      ]
    },
    {
      "cell_type": "code",
      "source": [
        "#continue\n",
        "for i in range(5):\n",
        "    if i == 3:\n",
        "        continue\n",
        "    print(i)"
      ],
      "metadata": {
        "colab": {
          "base_uri": "https://localhost:8080/"
        },
        "id": "3KyNAATcLHdI",
        "outputId": "2d5e5384-b1d7-45f7-b4b7-174fd42a18cc"
      },
      "execution_count": null,
      "outputs": [
        {
          "output_type": "stream",
          "name": "stdout",
          "text": [
            "0\n",
            "1\n",
            "2\n",
            "4\n"
          ]
        }
      ]
    },
    {
      "cell_type": "code",
      "source": [
        "list(range(0, 15))"
      ],
      "metadata": {
        "colab": {
          "base_uri": "https://localhost:8080/"
        },
        "id": "4rcraOCKN68r",
        "outputId": "1cec1ae5-1164-4638-9bc0-671db10b011a"
      },
      "execution_count": null,
      "outputs": [
        {
          "output_type": "execute_result",
          "data": {
            "text/plain": [
              "[0, 1, 2, 3, 4, 5, 6, 7, 8, 9, 10, 11, 12, 13, 14]"
            ]
          },
          "metadata": {},
          "execution_count": 16
        }
      ]
    },
    {
      "cell_type": "code",
      "source": [
        "for i in range (0, 15) :\n",
        "     print(i)"
      ],
      "metadata": {
        "colab": {
          "base_uri": "https://localhost:8080/"
        },
        "id": "RMXjmO1gOC5C",
        "outputId": "6f94681f-b780-40c3-8c88-69d436bafe77"
      },
      "execution_count": null,
      "outputs": [
        {
          "output_type": "stream",
          "name": "stdout",
          "text": [
            "0\n",
            "1\n",
            "2\n",
            "3\n",
            "4\n",
            "5\n",
            "6\n",
            "7\n",
            "8\n",
            "9\n",
            "10\n",
            "11\n",
            "12\n",
            "13\n",
            "14\n"
          ]
        }
      ]
    }
  ]
}